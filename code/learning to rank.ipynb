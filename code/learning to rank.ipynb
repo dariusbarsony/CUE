{
 "cells": [
  {
   "cell_type": "code",
   "execution_count": 29,
   "id": "59164280",
   "metadata": {},
   "outputs": [],
   "source": [
    "import pandas as pd"
   ]
  },
  {
   "cell_type": "code",
   "execution_count": 30,
   "id": "ba03de27",
   "metadata": {},
   "outputs": [],
   "source": [
    "filename_queries = '../data/catalogs/crossroads.csv'\n",
    "queries = pd.read_csv(filename)"
   ]
  },
  {
   "cell_type": "code",
   "execution_count": 31,
   "id": "1344de21",
   "metadata": {},
   "outputs": [
    {
     "data": {
      "text/html": [
       "<div>\n",
       "<style scoped>\n",
       "    .dataframe tbody tr th:only-of-type {\n",
       "        vertical-align: middle;\n",
       "    }\n",
       "\n",
       "    .dataframe tbody tr th {\n",
       "        vertical-align: top;\n",
       "    }\n",
       "\n",
       "    .dataframe thead th {\n",
       "        text-align: right;\n",
       "    }\n",
       "</style>\n",
       "<table border=\"1\" class=\"dataframe\">\n",
       "  <thead>\n",
       "    <tr style=\"text-align: right;\">\n",
       "      <th></th>\n",
       "      <th>text</th>\n",
       "    </tr>\n",
       "  </thead>\n",
       "  <tbody>\n",
       "    <tr>\n",
       "      <th>0</th>\n",
       "      <td>www.allardpiersonmuseum.nlCROSSROADS\\nA runic ...</td>\n",
       "    </tr>\n",
       "    <tr>\n",
       "      <th>1</th>\n",
       "      <td>www.allardpiersonmuseum.nlCROSSROADS\\nA runic ...</td>\n",
       "    </tr>\n",
       "    <tr>\n",
       "      <th>2</th>\n",
       "      <td>Travelling through the Middle Ages, \\nAD 300–1...</td>\n",
       "    </tr>\n",
       "    <tr>\n",
       "      <th>3</th>\n",
       "      <td>This joint publication by the Allard Pierson M...</td>\n",
       "    </tr>\n",
       "    <tr>\n",
       "      <th>4</th>\n",
       "      <td>EDITORIAL BOARD\\nMaria Bormpoudaki\\nMarieke va...</td>\n",
       "    </tr>\n",
       "    <tr>\n",
       "      <th>...</th>\n",
       "      <td>...</td>\n",
       "    </tr>\n",
       "    <tr>\n",
       "      <th>195</th>\n",
       "      <td>206 CROSSROADS INFORMATIONKianoosh Rezania is ...</td>\n",
       "    </tr>\n",
       "    <tr>\n",
       "      <th>196</th>\n",
       "      <td>207 AUTHORS’ BIOGRAPHIESILLUSTRATION \\nCREDITS...</td>\n",
       "    </tr>\n",
       "    <tr>\n",
       "      <th>197</th>\n",
       "      <td>COLOPHONLandesamt für Kultur und  \\nDenkmalpfl...</td>\n",
       "    </tr>\n",
       "    <tr>\n",
       "      <th>198</th>\n",
       "      <td>www.allardpiersonmuseum.nlCROSSROADS\\nA runic ...</td>\n",
       "    </tr>\n",
       "    <tr>\n",
       "      <th>199</th>\n",
       "      <td>www.allardpiersonmuseum.nlCROSSROADS\\nA runic ...</td>\n",
       "    </tr>\n",
       "  </tbody>\n",
       "</table>\n",
       "<p>200 rows × 1 columns</p>\n",
       "</div>"
      ],
      "text/plain": [
       "                                                  text\n",
       "0    www.allardpiersonmuseum.nlCROSSROADS\\nA runic ...\n",
       "1    www.allardpiersonmuseum.nlCROSSROADS\\nA runic ...\n",
       "2    Travelling through the Middle Ages, \\nAD 300–1...\n",
       "3    This joint publication by the Allard Pierson M...\n",
       "4    EDITORIAL BOARD\\nMaria Bormpoudaki\\nMarieke va...\n",
       "..                                                 ...\n",
       "195  206 CROSSROADS INFORMATIONKianoosh Rezania is ...\n",
       "196  207 AUTHORS’ BIOGRAPHIESILLUSTRATION \\nCREDITS...\n",
       "197  COLOPHONLandesamt für Kultur und  \\nDenkmalpfl...\n",
       "198  www.allardpiersonmuseum.nlCROSSROADS\\nA runic ...\n",
       "199  www.allardpiersonmuseum.nlCROSSROADS\\nA runic ...\n",
       "\n",
       "[200 rows x 1 columns]"
      ]
     },
     "execution_count": 31,
     "metadata": {},
     "output_type": "execute_result"
    }
   ],
   "source": [
    "queries"
   ]
  },
  {
   "cell_type": "code",
   "execution_count": 32,
   "id": "f139bd73",
   "metadata": {},
   "outputs": [],
   "source": [
    "filename_documents = '../data/CUE/uva_alma_beeldbank_dc_new.xml'\n",
    "documents = pd.read_xml(filename_documents)"
   ]
  },
  {
   "cell_type": "code",
   "execution_count": 33,
   "id": "dd38166c",
   "metadata": {},
   "outputs": [
    {
     "data": {
      "text/html": [
       "<div>\n",
       "<style scoped>\n",
       "    .dataframe tbody tr th:only-of-type {\n",
       "        vertical-align: middle;\n",
       "    }\n",
       "\n",
       "    .dataframe tbody tr th {\n",
       "        vertical-align: top;\n",
       "    }\n",
       "\n",
       "    .dataframe thead th {\n",
       "        text-align: right;\n",
       "    }\n",
       "</style>\n",
       "<table border=\"1\" class=\"dataframe\">\n",
       "  <thead>\n",
       "    <tr style=\"text-align: right;\">\n",
       "      <th></th>\n",
       "      <th>schemaLocation</th>\n",
       "      <th>title</th>\n",
       "      <th>description</th>\n",
       "      <th>publisher</th>\n",
       "      <th>contributor</th>\n",
       "      <th>date</th>\n",
       "      <th>type</th>\n",
       "      <th>identifier</th>\n",
       "      <th>language</th>\n",
       "      <th>relation</th>\n",
       "      <th>subject</th>\n",
       "      <th>coverage</th>\n",
       "      <th>format</th>\n",
       "      <th>source</th>\n",
       "    </tr>\n",
       "  </thead>\n",
       "  <tbody>\n",
       "    <tr>\n",
       "      <th>0</th>\n",
       "      <td>http://www.openarchives.org/OAI/2.0/oai_dc/ ht...</td>\n",
       "      <td>Architecture, peinture et sculpture de la mais...</td>\n",
       "      <td>Beschrijving gedrukte uitgave</td>\n",
       "      <td>A Amsterdam chez Gerard Valk</td>\n",
       "      <td>Quellinus, Artus (Artus), beeldhouwer, 1609-16...</td>\n",
       "      <td>1719</td>\n",
       "      <td>None</td>\n",
       "      <td>https://hdl.handle.net/11245/3.3680</td>\n",
       "      <td>fre</td>\n",
       "      <td>Architecture, peinture et sculpture de la mais...</td>\n",
       "      <td>None</td>\n",
       "      <td>None</td>\n",
       "      <td>None</td>\n",
       "      <td>None</td>\n",
       "    </tr>\n",
       "    <tr>\n",
       "      <th>1</th>\n",
       "      <td>http://www.openarchives.org/OAI/2.0/oai_dc/ ht...</td>\n",
       "      <td>Max Havelaar, of de Koffij-veilingen der neder...</td>\n",
       "      <td>Beschrijving gedrukte uitgave</td>\n",
       "      <td>Brussel</td>\n",
       "      <td>Lennep, J. van (Jacob), 1802-1868, publisher (...</td>\n",
       "      <td>1859</td>\n",
       "      <td>None</td>\n",
       "      <td>https://hdl.handle.net/11245/3.3641</td>\n",
       "      <td>dut</td>\n",
       "      <td>Max Havelaar, of de Koffij-veilingen der neder...</td>\n",
       "      <td>None</td>\n",
       "      <td>None</td>\n",
       "      <td>None</td>\n",
       "      <td>None</td>\n",
       "    </tr>\n",
       "    <tr>\n",
       "      <th>2</th>\n",
       "      <td>http://www.openarchives.org/OAI/2.0/oai_dc/ ht...</td>\n",
       "      <td>Rayz Beschraybung 1719-1724</td>\n",
       "      <td>Beschrijving gedrukte uitgave</td>\n",
       "      <td>Amsterdam</td>\n",
       "      <td>Zevi Hirsh ben Abraham transcriber</td>\n",
       "      <td>1752</td>\n",
       "      <td>None</td>\n",
       "      <td>https://hdl.handle.net/11245/3.3708</td>\n",
       "      <td>yid</td>\n",
       "      <td>Rayz Beschraybung 1719-1724</td>\n",
       "      <td>None</td>\n",
       "      <td>None</td>\n",
       "      <td>None</td>\n",
       "      <td>None</td>\n",
       "    </tr>\n",
       "    <tr>\n",
       "      <th>3</th>\n",
       "      <td>http://www.openarchives.org/OAI/2.0/oai_dc/ ht...</td>\n",
       "      <td>Meleket ha-diqduq</td>\n",
       "      <td>Beschrijving gedrukte uitgave</td>\n",
       "      <td>Amsterdam</td>\n",
       "      <td>ʾAbohav, Yiẕḥaq, 1605-1693 author (NL-LeOCL)...</td>\n",
       "      <td>1631</td>\n",
       "      <td>None</td>\n",
       "      <td>https://hdl.handle.net/11245/3.3709</td>\n",
       "      <td>heb</td>\n",
       "      <td>Meleket ha-diqduq</td>\n",
       "      <td>None</td>\n",
       "      <td>None</td>\n",
       "      <td>None</td>\n",
       "      <td>None</td>\n",
       "    </tr>\n",
       "    <tr>\n",
       "      <th>4</th>\n",
       "      <td>http://www.openarchives.org/OAI/2.0/oai_dc/ ht...</td>\n",
       "      <td>Neederlandsche historien</td>\n",
       "      <td>Beschrijving gedrukte uitgave</td>\n",
       "      <td>Amsterdam Muiden</td>\n",
       "      <td>Hooft, P.C. (Pieter Corneliszoon), 1581-1647 a...</td>\n",
       "      <td>1628</td>\n",
       "      <td>None</td>\n",
       "      <td>https://pid.uba.uva.nl/ark:/88238/b19900378229...</td>\n",
       "      <td>dut</td>\n",
       "      <td>Nederlandsche historien sedert de overdraght d...</td>\n",
       "      <td>Tachtigjarige oorlog</td>\n",
       "      <td>Nederland.http://data.bibliotheken.nl/id/thes/...</td>\n",
       "      <td>None</td>\n",
       "      <td>None</td>\n",
       "    </tr>\n",
       "    <tr>\n",
       "      <th>...</th>\n",
       "      <td>...</td>\n",
       "      <td>...</td>\n",
       "      <td>...</td>\n",
       "      <td>...</td>\n",
       "      <td>...</td>\n",
       "      <td>...</td>\n",
       "      <td>...</td>\n",
       "      <td>...</td>\n",
       "      <td>...</td>\n",
       "      <td>...</td>\n",
       "      <td>...</td>\n",
       "      <td>...</td>\n",
       "      <td>...</td>\n",
       "      <td>...</td>\n",
       "    </tr>\n",
       "    <tr>\n",
       "      <th>35559</th>\n",
       "      <td>http://www.openarchives.org/OAI/2.0/oai_dc/ ht...</td>\n",
       "      <td>Lipsius, Justus, 1547-1606 schilderij: portret</td>\n",
       "      <td>Beschrijving gedrukte uitgave</td>\n",
       "      <td>None</td>\n",
       "      <td>None</td>\n",
       "      <td>1743</td>\n",
       "      <td>None</td>\n",
       "      <td>https://hdl.handle.net/11245/3.94</td>\n",
       "      <td>xxx</td>\n",
       "      <td>Lipsius, Justus, 1547-1606</td>\n",
       "      <td>None</td>\n",
       "      <td>None</td>\n",
       "      <td>geschilderd</td>\n",
       "      <td>None</td>\n",
       "    </tr>\n",
       "    <tr>\n",
       "      <th>35560</th>\n",
       "      <td>http://www.openarchives.org/OAI/2.0/oai_dc/ ht...</td>\n",
       "      <td>Alexander VII, Paus, regerend 1655-1667 schild...</td>\n",
       "      <td>Beschrijving gedrukte uitgave</td>\n",
       "      <td>None</td>\n",
       "      <td>None</td>\n",
       "      <td>1743</td>\n",
       "      <td>None</td>\n",
       "      <td>https://hdl.handle.net/11245/3.2533</td>\n",
       "      <td>xxx</td>\n",
       "      <td>Alexander VII, Paus, regerend 1655-1667</td>\n",
       "      <td>None</td>\n",
       "      <td>None</td>\n",
       "      <td>geschilderd</td>\n",
       "      <td>None</td>\n",
       "    </tr>\n",
       "    <tr>\n",
       "      <th>35561</th>\n",
       "      <td>http://www.openarchives.org/OAI/2.0/oai_dc/ ht...</td>\n",
       "      <td>Commelin, J. (Johannes) (1629-1692) schilderij...</td>\n",
       "      <td>Beschrijving gedrukte uitgave</td>\n",
       "      <td>None</td>\n",
       "      <td>None</td>\n",
       "      <td>1889</td>\n",
       "      <td>None</td>\n",
       "      <td>https://hdl.handle.net/11245/3.708</td>\n",
       "      <td>xxx</td>\n",
       "      <td>Commelin, J. (Johannes) (1629-1692)</td>\n",
       "      <td>None</td>\n",
       "      <td>None</td>\n",
       "      <td>geschilderd</td>\n",
       "      <td>None</td>\n",
       "    </tr>\n",
       "    <tr>\n",
       "      <th>35562</th>\n",
       "      <td>http://www.openarchives.org/OAI/2.0/oai_dc/ ht...</td>\n",
       "      <td>Walraven, D.A. (Didericus Adrianus) (1732-1804...</td>\n",
       "      <td>Beschrijving gedrukte uitgave</td>\n",
       "      <td>None</td>\n",
       "      <td>None</td>\n",
       "      <td>1770</td>\n",
       "      <td>None</td>\n",
       "      <td>https://hdl.handle.net/11245/3.2525</td>\n",
       "      <td>xxx</td>\n",
       "      <td>Walraven, D.A. (Didericus Adrianus) (1732-1804)</td>\n",
       "      <td>None</td>\n",
       "      <td>None</td>\n",
       "      <td>geschilderd</td>\n",
       "      <td>None</td>\n",
       "    </tr>\n",
       "    <tr>\n",
       "      <th>35563</th>\n",
       "      <td>http://www.openarchives.org/OAI/2.0/oai_dc/ ht...</td>\n",
       "      <td>Plattegrond van de Grote Gehoorzaal in het Ath...</td>\n",
       "      <td>Beschrijving gedrukte uitgave</td>\n",
       "      <td>None</td>\n",
       "      <td>None</td>\n",
       "      <td>1743</td>\n",
       "      <td>None</td>\n",
       "      <td>https://hdl.handle.net/11245/3.205</td>\n",
       "      <td>xxx</td>\n",
       "      <td>Plattegrond van de Grote Gehoorzaal in het Ath...</td>\n",
       "      <td>None</td>\n",
       "      <td>None</td>\n",
       "      <td>getekend</td>\n",
       "      <td>None</td>\n",
       "    </tr>\n",
       "  </tbody>\n",
       "</table>\n",
       "<p>35564 rows × 14 columns</p>\n",
       "</div>"
      ],
      "text/plain": [
       "                                          schemaLocation  \\\n",
       "0      http://www.openarchives.org/OAI/2.0/oai_dc/ ht...   \n",
       "1      http://www.openarchives.org/OAI/2.0/oai_dc/ ht...   \n",
       "2      http://www.openarchives.org/OAI/2.0/oai_dc/ ht...   \n",
       "3      http://www.openarchives.org/OAI/2.0/oai_dc/ ht...   \n",
       "4      http://www.openarchives.org/OAI/2.0/oai_dc/ ht...   \n",
       "...                                                  ...   \n",
       "35559  http://www.openarchives.org/OAI/2.0/oai_dc/ ht...   \n",
       "35560  http://www.openarchives.org/OAI/2.0/oai_dc/ ht...   \n",
       "35561  http://www.openarchives.org/OAI/2.0/oai_dc/ ht...   \n",
       "35562  http://www.openarchives.org/OAI/2.0/oai_dc/ ht...   \n",
       "35563  http://www.openarchives.org/OAI/2.0/oai_dc/ ht...   \n",
       "\n",
       "                                                   title  \\\n",
       "0      Architecture, peinture et sculpture de la mais...   \n",
       "1      Max Havelaar, of de Koffij-veilingen der neder...   \n",
       "2                            Rayz Beschraybung 1719-1724   \n",
       "3                                      Meleket ha-diqduq   \n",
       "4                               Neederlandsche historien   \n",
       "...                                                  ...   \n",
       "35559     Lipsius, Justus, 1547-1606 schilderij: portret   \n",
       "35560  Alexander VII, Paus, regerend 1655-1667 schild...   \n",
       "35561  Commelin, J. (Johannes) (1629-1692) schilderij...   \n",
       "35562  Walraven, D.A. (Didericus Adrianus) (1732-1804...   \n",
       "35563  Plattegrond van de Grote Gehoorzaal in het Ath...   \n",
       "\n",
       "                         description                     publisher  \\\n",
       "0      Beschrijving gedrukte uitgave  A Amsterdam chez Gerard Valk   \n",
       "1      Beschrijving gedrukte uitgave                       Brussel   \n",
       "2      Beschrijving gedrukte uitgave                     Amsterdam   \n",
       "3      Beschrijving gedrukte uitgave                     Amsterdam   \n",
       "4      Beschrijving gedrukte uitgave              Amsterdam Muiden   \n",
       "...                              ...                           ...   \n",
       "35559  Beschrijving gedrukte uitgave                          None   \n",
       "35560  Beschrijving gedrukte uitgave                          None   \n",
       "35561  Beschrijving gedrukte uitgave                          None   \n",
       "35562  Beschrijving gedrukte uitgave                          None   \n",
       "35563  Beschrijving gedrukte uitgave                          None   \n",
       "\n",
       "                                             contributor  date  type  \\\n",
       "0      Quellinus, Artus (Artus), beeldhouwer, 1609-16...  1719  None   \n",
       "1      Lennep, J. van (Jacob), 1802-1868, publisher (...  1859  None   \n",
       "2                     Zevi Hirsh ben Abraham transcriber  1752  None   \n",
       "3      ʾAbohav, Yiẕḥaq, 1605-1693 author (NL-LeOCL)...  1631  None   \n",
       "4      Hooft, P.C. (Pieter Corneliszoon), 1581-1647 a...  1628  None   \n",
       "...                                                  ...   ...   ...   \n",
       "35559                                               None  1743  None   \n",
       "35560                                               None  1743  None   \n",
       "35561                                               None  1889  None   \n",
       "35562                                               None  1770  None   \n",
       "35563                                               None  1743  None   \n",
       "\n",
       "                                              identifier language  \\\n",
       "0                    https://hdl.handle.net/11245/3.3680      fre   \n",
       "1                    https://hdl.handle.net/11245/3.3641      dut   \n",
       "2                    https://hdl.handle.net/11245/3.3708      yid   \n",
       "3                    https://hdl.handle.net/11245/3.3709      heb   \n",
       "4      https://pid.uba.uva.nl/ark:/88238/b19900378229...      dut   \n",
       "...                                                  ...      ...   \n",
       "35559                  https://hdl.handle.net/11245/3.94      xxx   \n",
       "35560                https://hdl.handle.net/11245/3.2533      xxx   \n",
       "35561                 https://hdl.handle.net/11245/3.708      xxx   \n",
       "35562                https://hdl.handle.net/11245/3.2525      xxx   \n",
       "35563                 https://hdl.handle.net/11245/3.205      xxx   \n",
       "\n",
       "                                                relation  \\\n",
       "0      Architecture, peinture et sculpture de la mais...   \n",
       "1      Max Havelaar, of de Koffij-veilingen der neder...   \n",
       "2                            Rayz Beschraybung 1719-1724   \n",
       "3                                      Meleket ha-diqduq   \n",
       "4      Nederlandsche historien sedert de overdraght d...   \n",
       "...                                                  ...   \n",
       "35559                         Lipsius, Justus, 1547-1606   \n",
       "35560            Alexander VII, Paus, regerend 1655-1667   \n",
       "35561                Commelin, J. (Johannes) (1629-1692)   \n",
       "35562    Walraven, D.A. (Didericus Adrianus) (1732-1804)   \n",
       "35563  Plattegrond van de Grote Gehoorzaal in het Ath...   \n",
       "\n",
       "                    subject  \\\n",
       "0                      None   \n",
       "1                      None   \n",
       "2                      None   \n",
       "3                      None   \n",
       "4      Tachtigjarige oorlog   \n",
       "...                     ...   \n",
       "35559                  None   \n",
       "35560                  None   \n",
       "35561                  None   \n",
       "35562                  None   \n",
       "35563                  None   \n",
       "\n",
       "                                                coverage       format source  \n",
       "0                                                   None         None   None  \n",
       "1                                                   None         None   None  \n",
       "2                                                   None         None   None  \n",
       "3                                                   None         None   None  \n",
       "4      Nederland.http://data.bibliotheken.nl/id/thes/...         None   None  \n",
       "...                                                  ...          ...    ...  \n",
       "35559                                               None  geschilderd   None  \n",
       "35560                                               None  geschilderd   None  \n",
       "35561                                               None  geschilderd   None  \n",
       "35562                                               None  geschilderd   None  \n",
       "35563                                               None     getekend   None  \n",
       "\n",
       "[35564 rows x 14 columns]"
      ]
     },
     "execution_count": 33,
     "metadata": {},
     "output_type": "execute_result"
    }
   ],
   "source": [
    "documents"
   ]
  },
  {
   "cell_type": "code",
   "execution_count": 57,
   "id": "6276e0b7",
   "metadata": {},
   "outputs": [],
   "source": [
    "from nltk.tokenize import RegexpTokenizer\n",
    "\n",
    "tokenizer = RegexpTokenizer(r'\\w+')\n",
    "query = tokenizer.tokenize(queries['text'].iloc[0])"
   ]
  },
  {
   "cell_type": "code",
   "execution_count": 58,
   "id": "518ec9a5",
   "metadata": {},
   "outputs": [
    {
     "data": {
      "text/plain": [
       "239"
      ]
     },
     "execution_count": 58,
     "metadata": {},
     "output_type": "execute_result"
    }
   ],
   "source": [
    "len(query)"
   ]
  },
  {
   "cell_type": "code",
   "execution_count": 59,
   "id": "4e195748",
   "metadata": {},
   "outputs": [],
   "source": [
    "from nltk.corpus import stopwords\n",
    "\n",
    "stop_words = set(stopwords.words('english'))\n",
    "filtered_sentence = [w for w in query if not w.lower() in stop_words]"
   ]
  },
  {
   "cell_type": "code",
   "execution_count": 60,
   "id": "efd0bbee",
   "metadata": {},
   "outputs": [
    {
     "data": {
      "text/plain": [
       "140"
      ]
     },
     "execution_count": 60,
     "metadata": {},
     "output_type": "execute_result"
    }
   ],
   "source": [
    "len(filtered_sentence)"
   ]
  },
  {
   "cell_type": "code",
   "execution_count": 61,
   "id": "24923c9b",
   "metadata": {},
   "outputs": [],
   "source": [
    "filtered_sentence = [w.lower() for w in filtered_sentence if not w.lower().isdigit()]"
   ]
  },
  {
   "cell_type": "code",
   "execution_count": 64,
   "id": "3821cdb1",
   "metadata": {},
   "outputs": [
    {
     "data": {
      "text/plain": [
       "138"
      ]
     },
     "execution_count": 64,
     "metadata": {},
     "output_type": "execute_result"
    }
   ],
   "source": [
    "len(filtered_sentence)"
   ]
  },
  {
   "cell_type": "markdown",
   "id": "8660794c",
   "metadata": {},
   "source": [
    "### stemming"
   ]
  },
  {
   "cell_type": "code",
   "execution_count": 63,
   "id": "41b60e82",
   "metadata": {},
   "outputs": [],
   "source": [
    "from nltk.stem.snowball import SnowballStemmer"
   ]
  },
  {
   "cell_type": "code",
   "execution_count": 54,
   "id": "389da060",
   "metadata": {},
   "outputs": [],
   "source": [
    "stemmer = SnowballStemmer(\"english\")"
   ]
  },
  {
   "cell_type": "code",
   "execution_count": 55,
   "id": "11807f29",
   "metadata": {},
   "outputs": [],
   "source": [
    "filtered_sentence = [stemmer.stem(w) for w in filtered_sentence]"
   ]
  },
  {
   "cell_type": "code",
   "execution_count": 65,
   "id": "9a6b57ff",
   "metadata": {},
   "outputs": [
    {
     "data": {
      "text/plain": [
       "'www allardpiersonmuseum nlcrossroads runic graffito hagia sophia gilt byzantine helmet grave frankish nobleman trea sure hidden vikings low countries containing arab dirham exam ples telling early medieval finds book late antiquity early middle ages often viewed time decline chaos invasions war another side period well rich diversity cultures europe longo bards merovingians byzantines avars lively exchange goods ideas sometimes great distances vikings set trade network reached baghdad silk road brought commodities europe also diplomatic missions knowledge ideas illustrated interludes book stories ten travellers pilgrims scholars diplomats elephant despite numerous conflicts period ad also one growth continuity peaceful coexistence late eighteenth century romantic view middle ages arose resulting gothic revival art pre raphaelites nation states today happily refer heroism early middle ages king doms born present day europe began take shape travelling middle ages travelling middle ages cross roads'"
      ]
     },
     "execution_count": 65,
     "metadata": {},
     "output_type": "execute_result"
    }
   ],
   "source": [
    "\" \".join(filtered_sentence)"
   ]
  },
  {
   "cell_type": "markdown",
   "id": "d10f5dae",
   "metadata": {},
   "source": [
    "### process document"
   ]
  },
  {
   "cell_type": "code",
   "execution_count": 74,
   "id": "055efe01",
   "metadata": {},
   "outputs": [],
   "source": [
    "document = tokenizer.tokenize(documents['title'].iloc[0])"
   ]
  },
  {
   "cell_type": "code",
   "execution_count": 76,
   "id": "007b2750",
   "metadata": {},
   "outputs": [
    {
     "data": {
      "text/plain": [
       "18"
      ]
     },
     "execution_count": 76,
     "metadata": {},
     "output_type": "execute_result"
    }
   ],
   "source": [
    "len(document)"
   ]
  },
  {
   "cell_type": "code",
   "execution_count": 77,
   "id": "4d18a6ee",
   "metadata": {},
   "outputs": [],
   "source": [
    "filtered_document = [w for w in document if not w.lower() in stop_words]"
   ]
  },
  {
   "cell_type": "code",
   "execution_count": 78,
   "id": "1bafb458",
   "metadata": {},
   "outputs": [
    {
     "data": {
      "text/plain": [
       "17"
      ]
     },
     "execution_count": 78,
     "metadata": {},
     "output_type": "execute_result"
    }
   ],
   "source": [
    "len(filtered_document)"
   ]
  },
  {
   "cell_type": "code",
   "execution_count": 80,
   "id": "4d2b80a6",
   "metadata": {},
   "outputs": [],
   "source": [
    "filtered_document = [w.lower() for w in filtered_document if not w.lower().isdigit()]"
   ]
  },
  {
   "cell_type": "code",
   "execution_count": 81,
   "id": "c6d052f5",
   "metadata": {},
   "outputs": [
    {
     "data": {
      "text/plain": [
       "['architecture',\n",
       " 'peinture',\n",
       " 'et',\n",
       " 'sculpture',\n",
       " 'de',\n",
       " 'la',\n",
       " 'maison',\n",
       " 'de',\n",
       " 'ville',\n",
       " 'amsterdam',\n",
       " 'représentée',\n",
       " 'en',\n",
       " 'figures',\n",
       " 'en',\n",
       " 'taille',\n",
       " 'douce']"
      ]
     },
     "execution_count": 81,
     "metadata": {},
     "output_type": "execute_result"
    }
   ],
   "source": [
    "filtered_document"
   ]
  },
  {
   "cell_type": "markdown",
   "id": "7862e6c4",
   "metadata": {},
   "source": [
    "### vector "
   ]
  },
  {
   "cell_type": "code",
   "execution_count": 103,
   "id": "62ff8f0d",
   "metadata": {},
   "outputs": [],
   "source": [
    "from sklearn.feature_extraction.text import TfidfVectorizer"
   ]
  },
  {
   "cell_type": "code",
   "execution_count": 104,
   "id": "f5a20ece",
   "metadata": {},
   "outputs": [],
   "source": [
    "model = TfidfVectorizer()"
   ]
  },
  {
   "cell_type": "code",
   "execution_count": 106,
   "id": "779c9e85",
   "metadata": {},
   "outputs": [
    {
     "data": {
      "text/plain": [
       "<1x119 sparse matrix of type '<class 'numpy.float64'>'\n",
       "\twith 119 stored elements in Compressed Sparse Row format>"
      ]
     },
     "execution_count": 106,
     "metadata": {},
     "output_type": "execute_result"
    }
   ],
   "source": [
    "tfidf.fit_transform([\" \".join(filtered_sentence)])"
   ]
  },
  {
   "cell_type": "code",
   "execution_count": 107,
   "id": "662a0a9e",
   "metadata": {},
   "outputs": [
    {
     "data": {
      "text/plain": [
       "True"
      ]
     },
     "execution_count": 107,
     "metadata": {},
     "output_type": "execute_result"
    }
   ],
   "source": [
    "analyze = vectorizer.build_analyzer()\n",
    "analyze(\"This is a text document to analyze.\") == (['this', 'is', 'text', 'document', 'to', 'analyze'])"
   ]
  },
  {
   "cell_type": "code",
   "execution_count": 108,
   "id": "82219328",
   "metadata": {},
   "outputs": [
    {
     "data": {
      "text/plain": [
       "functools.partial(<function _analyze at 0x7f6b6278e820>, ngrams=<bound method _VectorizerMixin._word_ngrams of CountVectorizer()>, tokenizer=<built-in method findall of re.Pattern object at 0x7f6b6240e920>, preprocessor=functools.partial(<function _preprocess at 0x7f6b6278e700>, accent_function=None, lower=True), decoder=<bound method _VectorizerMixin.decode of CountVectorizer()>, stop_words=None)"
      ]
     },
     "execution_count": 108,
     "metadata": {},
     "output_type": "execute_result"
    }
   ],
   "source": [
    "analyze"
   ]
  },
  {
   "cell_type": "code",
   "execution_count": null,
   "id": "16d12f27",
   "metadata": {},
   "outputs": [],
   "source": []
  }
 ],
 "metadata": {
  "kernelspec": {
   "display_name": "cue",
   "language": "python",
   "name": "cue"
  },
  "language_info": {
   "codemirror_mode": {
    "name": "ipython",
    "version": 3
   },
   "file_extension": ".py",
   "mimetype": "text/x-python",
   "name": "python",
   "nbconvert_exporter": "python",
   "pygments_lexer": "ipython3",
   "version": "3.9.16"
  }
 },
 "nbformat": 4,
 "nbformat_minor": 5
}
